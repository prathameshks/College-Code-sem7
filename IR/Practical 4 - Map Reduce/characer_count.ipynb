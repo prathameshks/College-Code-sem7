{
  "cells": [
    {
      "cell_type": "markdown",
      "source": [
        "RUN ON COLAB/ NOT WORKING ON WINDOWS"
      ],
      "metadata": {
        "id": "QQ1l_ohm4xUg"
      }
    },
    {
      "cell_type": "code",
      "execution_count": 1,
      "metadata": {
        "id": "HEG_gzjN4Td2",
        "outputId": "ac4989d0-8c72-4a01-8242-ab2c6d8746dd",
        "colab": {
          "base_uri": "https://localhost:8080/"
        }
      },
      "outputs": [
        {
          "output_type": "stream",
          "name": "stdout",
          "text": [
            "Collecting pyspark\n",
            "  Downloading pyspark-3.5.3.tar.gz (317.3 MB)\n",
            "\u001b[2K     \u001b[90m━━━━━━━━━━━━━━━━━━━━━━━━━━━━━━━━━━━━━━━━\u001b[0m \u001b[32m317.3/317.3 MB\u001b[0m \u001b[31m3.8 MB/s\u001b[0m eta \u001b[36m0:00:00\u001b[0m\n",
            "\u001b[?25h  Preparing metadata (setup.py) ... \u001b[?25l\u001b[?25hdone\n",
            "Requirement already satisfied: py4j==0.10.9.7 in /usr/local/lib/python3.10/dist-packages (from pyspark) (0.10.9.7)\n",
            "Building wheels for collected packages: pyspark\n",
            "  Building wheel for pyspark (setup.py) ... \u001b[?25l\u001b[?25hdone\n",
            "  Created wheel for pyspark: filename=pyspark-3.5.3-py2.py3-none-any.whl size=317840625 sha256=3b7074554aff6402bc7aeb5e31d0ceee2aab004c08c9dccb254c34af9ab9c437\n",
            "  Stored in directory: /root/.cache/pip/wheels/1b/3a/92/28b93e2fbfdbb07509ca4d6f50c5e407f48dce4ddbda69a4ab\n",
            "Successfully built pyspark\n",
            "Installing collected packages: pyspark\n",
            "Successfully installed pyspark-3.5.3\n"
          ]
        }
      ],
      "source": [
        "!pip install pyspark"
      ]
    },
    {
      "cell_type": "code",
      "execution_count": 2,
      "metadata": {
        "id": "IrzeThqj4Td4"
      },
      "outputs": [],
      "source": [
        "from pyspark import SparkConf, SparkContext\n",
        "\n",
        "sc = SparkContext(\"local\",\"Letter Count App\")"
      ]
    },
    {
      "cell_type": "code",
      "execution_count": 3,
      "metadata": {
        "id": "dIpWPrYO4Td5"
      },
      "outputs": [],
      "source": [
        "\n",
        "dataset = \"\"\"Lorem ipsum dolor sit amet,\n",
        "consectetur adipiscing elit. Pellentesque nec orci nec turpis aliquam dapibus.\n",
        "Etiam facilisis ligula non nulla pulvinar, id posuere sapien fermentum. Nulla facilisi.\"\"\"\n",
        "rdd = sc.parallelize(dataset)"
      ]
    },
    {
      "cell_type": "code",
      "execution_count": 4,
      "metadata": {
        "id": "NWO7Sj884Td6"
      },
      "outputs": [],
      "source": [
        "def map_letter_count(line):\n",
        "    return [char. lower() for char in line if char.isalpha()]\n",
        "\n",
        "letter_counts = (\n",
        "    rdd\n",
        "    .flatMap(map_letter_count)\n",
        "    .map(lambda char: (char, 1))\n",
        "    .reduceByKey(lambda a, b: a + b)\n",
        ")\n"
      ]
    },
    {
      "cell_type": "code",
      "execution_count": 5,
      "metadata": {
        "id": "HWRDe05A4Td7",
        "outputId": "4459ae35-4b42-4bea-f0fc-c54e69ee1228",
        "colab": {
          "base_uri": "https://localhost:8080/"
        }
      },
      "outputs": [
        {
          "output_type": "stream",
          "name": "stdout",
          "text": [
            "a: 13\n",
            "b: 1\n",
            "c: 8\n",
            "d: 4\n",
            "e: 17\n",
            "f: 3\n",
            "g: 2\n",
            "i: 21\n",
            "l: 15\n",
            "m: 7\n",
            "n: 12\n",
            "o: 7\n",
            "p: 8\n",
            "q: 2\n",
            "r: 8\n",
            "s: 12\n",
            "t: 9\n",
            "u: 12\n",
            "v: 1\n"
          ]
        }
      ],
      "source": [
        "sorted_counts = letter_counts.sortByKey().collect()\n",
        "\n",
        "for letter, count in sorted_counts:\n",
        "    print(f\"{letter}: {count}\")\n"
      ]
    },
    {
      "cell_type": "code",
      "execution_count": null,
      "metadata": {
        "id": "HF8fJ0Gz4Td8"
      },
      "outputs": [],
      "source": [
        "\n",
        "sc.stop()"
      ]
    },
    {
      "cell_type": "code",
      "execution_count": null,
      "metadata": {
        "id": "0T62mYlW4Td8"
      },
      "outputs": [],
      "source": []
    }
  ],
  "metadata": {
    "kernelspec": {
      "display_name": "venv",
      "language": "python",
      "name": "python3"
    },
    "language_info": {
      "codemirror_mode": {
        "name": "ipython",
        "version": 3
      },
      "file_extension": ".py",
      "mimetype": "text/x-python",
      "name": "python",
      "nbconvert_exporter": "python",
      "pygments_lexer": "ipython3",
      "version": "3.12.6"
    },
    "colab": {
      "provenance": []
    }
  },
  "nbformat": 4,
  "nbformat_minor": 0
}