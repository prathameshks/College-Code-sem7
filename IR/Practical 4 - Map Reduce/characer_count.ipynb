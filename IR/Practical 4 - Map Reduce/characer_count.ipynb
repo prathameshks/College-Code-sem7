{
 "cells": [
  {
   "cell_type": "code",
   "execution_count": null,
   "metadata": {},
   "outputs": [],
   "source": [
    "!pip install pyspark"
   ]
  },
  {
   "cell_type": "code",
   "execution_count": null,
   "metadata": {},
   "outputs": [],
   "source": [
    "from pyspark import SparkConf, SparkContext\n",
    "\n",
    "sc = SparkContext(\"local\",\"Letter Count App\")"
   ]
  },
  {
   "cell_type": "code",
   "execution_count": null,
   "metadata": {},
   "outputs": [],
   "source": [
    "\n",
    "dataset = \"\"\"Lorem ipsum dolor sit amet,\n",
    "consectetur adipiscing elit. Pellentesque nec orci nec turpis aliquam dapibus.\n",
    "Etiam facilisis ligula non nulla pulvinar, id posuere sapien fermentum. Nulla facilisi.\"\"\"\n",
    "rdd = sc.parallelize(dataset)"
   ]
  },
  {
   "cell_type": "code",
   "execution_count": null,
   "metadata": {},
   "outputs": [],
   "source": [
    "def map_letter_count(line):\n",
    "    return [char. lower() for char in line if char.isalpha()]\n",
    "\n",
    "letter_counts = (\n",
    "    rdd\n",
    "    .flatMap(map_letter_count)\n",
    "    .map(lambda char: (char, 1))\n",
    "    .reduceByKey(lambda a, b: a + b)\n",
    ")\n"
   ]
  },
  {
   "cell_type": "code",
   "execution_count": null,
   "metadata": {},
   "outputs": [],
   "source": [
    "sorted_counts = letter_counts.sortByKey().collect()\n",
    "\n",
    "for letter, count in sorted_counts:\n",
    "    print(f\"{letter}: {count}\")\n"
   ]
  },
  {
   "cell_type": "code",
   "execution_count": null,
   "metadata": {},
   "outputs": [],
   "source": [
    "\n",
    "sc.stop()"
   ]
  },
  {
   "cell_type": "code",
   "execution_count": null,
   "metadata": {},
   "outputs": [],
   "source": []
  }
 ],
 "metadata": {
  "kernelspec": {
   "display_name": "venv",
   "language": "python",
   "name": "python3"
  },
  "language_info": {
   "codemirror_mode": {
    "name": "ipython",
    "version": 3
   },
   "file_extension": ".py",
   "mimetype": "text/x-python",
   "name": "python",
   "nbconvert_exporter": "python",
   "pygments_lexer": "ipython3",
   "version": "3.12.6"
  }
 },
 "nbformat": 4,
 "nbformat_minor": 2
}
