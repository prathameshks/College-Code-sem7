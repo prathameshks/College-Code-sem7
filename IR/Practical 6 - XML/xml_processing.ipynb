{
 "cells": [
  {
   "cell_type": "markdown",
   "metadata": {},
   "source": [
    "### file: emp.xml\n",
    "\n",
    "```xml\n",
    "<?xml version=\"1.0\" encoding=\"UTF-8\"?>\n",
    "<employee>\n",
    "    <fname>Ritesh</fname>\n",
    "    <lname>Saurabh</lname>\n",
    "    <home>Thane</home>\n",
    "    <expertise name=\"SQl\"/>\n",
    "    <expertise name=\"Python\"/>\n",
    "    <expertise name=\"Testing\"/>\n",
    "    <expertise name=\"Business\"/>\n",
    "</employee>\n",
    "```"
   ]
  },
  {
   "cell_type": "code",
   "execution_count": 1,
   "metadata": {},
   "outputs": [],
   "source": [
    "import xml.dom.minidom"
   ]
  },
  {
   "cell_type": "code",
   "execution_count": 2,
   "metadata": {},
   "outputs": [],
   "source": [
    "def main():\n",
    "    doc = xml.dom.minidom.parse(\"emp.xml\")\n",
    "    print(doc.nodeName)\n",
    "    print(doc.firstChild.tagName)\n",
    "\n",
    "    expertise = doc.getElementsByTagName(\"expertise\")\n",
    "    print(\"%d expertise:\" % expertise.length)\n",
    "\n",
    "    for skill in expertise:\n",
    "        print(skill.getAttribute(\"name\"))\n",
    "\n",
    "    newexpertise = doc.createElement(\"expertise\")\n",
    "    newexpertise.setAttribute(\"name\", \"BigData\")\n",
    "    doc.firstChild.appendChild(newexpertise)\n",
    "\n",
    "    print(\" \")\n",
    "\n",
    "    expertise = doc.getElementsByTagName(\"expertise\")\n",
    "    print(\"%d expertise:\" % expertise.length)\n",
    "\n",
    "    for skill in expertise:\n",
    "        print(skill.getAttribute(\"name\"))"
   ]
  },
  {
   "cell_type": "code",
   "execution_count": 3,
   "metadata": {},
   "outputs": [
    {
     "name": "stdout",
     "output_type": "stream",
     "text": [
      "#document\n",
      "employee\n",
      "4 expertise:\n",
      "SQl\n",
      "Python\n",
      "Testing\n",
      "Business\n",
      " \n",
      "5 expertise:\n",
      "SQl\n",
      "Python\n",
      "Testing\n",
      "Business\n",
      "BigData\n"
     ]
    }
   ],
   "source": [
    "main()"
   ]
  }
 ],
 "metadata": {
  "kernelspec": {
   "display_name": "venv",
   "language": "python",
   "name": "python3"
  },
  "language_info": {
   "codemirror_mode": {
    "name": "ipython",
    "version": 3
   },
   "file_extension": ".py",
   "mimetype": "text/x-python",
   "name": "python",
   "nbconvert_exporter": "python",
   "pygments_lexer": "ipython3",
   "version": "3.12.6"
  }
 },
 "nbformat": 4,
 "nbformat_minor": 2
}
