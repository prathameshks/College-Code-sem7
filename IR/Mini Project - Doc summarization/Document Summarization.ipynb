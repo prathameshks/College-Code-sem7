{
  "cells": [
    {
      "cell_type": "code",
      "execution_count": 1,
      "metadata": {
        "colab": {
          "base_uri": "https://localhost:8080/"
        },
        "id": "4ngLCfgJvq5o",
        "outputId": "ccf26ddd-eba4-4305-edcf-b36a11485be7"
      },
      "outputs": [
        {
          "name": "stdout",
          "output_type": "stream",
          "text": [
            "Collecting pypdf\n",
            "  Downloading pypdf-5.0.1-py3-none-any.whl.metadata (7.4 kB)\n",
            "Downloading pypdf-5.0.1-py3-none-any.whl (294 kB)\n",
            "Installing collected packages: pypdf\n",
            "Successfully installed pypdf-5.0.1\n"
          ]
        }
      ],
      "source": [
        "!pip install pypdf"
      ]
    },
    {
      "cell_type": "code",
      "execution_count": 2,
      "metadata": {
        "colab": {
          "base_uri": "https://localhost:8080/"
        },
        "id": "KU3IL-ZfvviO",
        "outputId": "648d4e3d-ffeb-40fc-89ba-80129537a1c9"
      },
      "outputs": [
        {
          "name": "stdout",
          "output_type": "stream",
          "text": [
            "1\n",
            "In January 1982, when it was decided that an Indian would go into space on a Soviet\n",
            "space ship, Squadron Leader Rakesh Sharma volunteered for this very challenging \n",
            "mission. After a very rigorous selection process, which included a most exacting \n",
            "medical test, he was selected as one of the two cosmonaut candidates from among 150\n",
            "highly qualified and experienced pilots of the Indian Air Force. After his \n",
            "selection, he underwent training as a cosmonaut at YURI GAGARIN CENTRE in the USSR,\n",
            "where he applied himself with total devotion and dedication and won acclaim from \n",
            "Soviet Space experts. Squadron Leader Rakesh Sharma completed a most arduous \n",
            "training schedule, with distinction and with exceptional professionalism.\n",
            "On 3 April 1984, Sqn Ldr Rakesh Sharma became the first Indian to orbit in space. \n",
            "He carried out all the scientific experiments planned for the joint Indo-Soviet \n",
            "Space Mission and other tasks assigned to him with great facility and excellence. \n",
            "Sqn Ldr Sharma has not only carved out a place for himself in the space roll of \n",
            "honour but has brought glory and credit to the nation.\n",
            "Squadron leader Rakesh Sharma has thus displayed most conspicuous daring and \n",
            "courage to become the first Indian to go into space.\n"
          ]
        }
      ],
      "source": [
        "# importing required modules\n",
        "from pypdf import PdfReader\n",
        "\n",
        "pdf_path = input(\"Enter the path of pdf file: \")\n",
        "\n",
        "# creating a pdf reader object\n",
        "reader = PdfReader(pdf_path)\n",
        "\n",
        "# printing number of pages in pdf file\n",
        "print(len(reader.pages))\n",
        "\n",
        "# getting a specific page from the pdf file\n",
        "page = reader.pages[0]\n",
        "\n",
        "# extracting text from page\n",
        "text = page.extract_text()\n",
        "print(text)"
      ]
    },
    {
      "cell_type": "code",
      "execution_count": 4,
      "metadata": {
        "id": "-_SDRAGgtpMC"
      },
      "outputs": [
        {
          "name": "stdout",
          "output_type": "stream",
          "text": [
            "Requirement already satisfied: spacy in d:\\coding\\college-code-sem7\\venv\\lib\\site-packages (3.8.2)\n",
            "Requirement already satisfied: spacy-legacy<3.1.0,>=3.0.11 in d:\\coding\\college-code-sem7\\venv\\lib\\site-packages (from spacy) (3.0.12)\n",
            "Requirement already satisfied: spacy-loggers<2.0.0,>=1.0.0 in d:\\coding\\college-code-sem7\\venv\\lib\\site-packages (from spacy) (1.0.5)\n",
            "Requirement already satisfied: murmurhash<1.1.0,>=0.28.0 in d:\\coding\\college-code-sem7\\venv\\lib\\site-packages (from spacy) (1.0.10)\n",
            "Requirement already satisfied: cymem<2.1.0,>=2.0.2 in d:\\coding\\college-code-sem7\\venv\\lib\\site-packages (from spacy) (2.0.8)\n",
            "Requirement already satisfied: preshed<3.1.0,>=3.0.2 in d:\\coding\\college-code-sem7\\venv\\lib\\site-packages (from spacy) (3.0.9)\n",
            "Requirement already satisfied: thinc<8.4.0,>=8.3.0 in d:\\coding\\college-code-sem7\\venv\\lib\\site-packages (from spacy) (8.3.2)\n",
            "Requirement already satisfied: wasabi<1.2.0,>=0.9.1 in d:\\coding\\college-code-sem7\\venv\\lib\\site-packages (from spacy) (1.1.3)\n",
            "Requirement already satisfied: srsly<3.0.0,>=2.4.3 in d:\\coding\\college-code-sem7\\venv\\lib\\site-packages (from spacy) (2.4.8)\n",
            "Requirement already satisfied: catalogue<2.1.0,>=2.0.6 in d:\\coding\\college-code-sem7\\venv\\lib\\site-packages (from spacy) (2.0.10)\n",
            "Requirement already satisfied: weasel<0.5.0,>=0.1.0 in d:\\coding\\college-code-sem7\\venv\\lib\\site-packages (from spacy) (0.4.1)\n",
            "Requirement already satisfied: typer<1.0.0,>=0.3.0 in d:\\coding\\college-code-sem7\\venv\\lib\\site-packages (from spacy) (0.12.5)\n",
            "Requirement already satisfied: tqdm<5.0.0,>=4.38.0 in d:\\coding\\college-code-sem7\\venv\\lib\\site-packages (from spacy) (4.66.5)\n",
            "Requirement already satisfied: requests<3.0.0,>=2.13.0 in d:\\coding\\college-code-sem7\\venv\\lib\\site-packages (from spacy) (2.32.3)\n",
            "Requirement already satisfied: pydantic!=1.8,!=1.8.1,<3.0.0,>=1.7.4 in d:\\coding\\college-code-sem7\\venv\\lib\\site-packages (from spacy) (2.9.2)\n",
            "Requirement already satisfied: jinja2 in d:\\coding\\college-code-sem7\\venv\\lib\\site-packages (from spacy) (3.1.4)\n",
            "Requirement already satisfied: setuptools in d:\\coding\\college-code-sem7\\venv\\lib\\site-packages (from spacy) (74.1.2)\n",
            "Requirement already satisfied: packaging>=20.0 in d:\\coding\\college-code-sem7\\venv\\lib\\site-packages (from spacy) (24.1)\n",
            "Requirement already satisfied: langcodes<4.0.0,>=3.2.0 in d:\\coding\\college-code-sem7\\venv\\lib\\site-packages (from spacy) (3.4.1)\n",
            "Requirement already satisfied: numpy>=1.19.0 in d:\\coding\\college-code-sem7\\venv\\lib\\site-packages (from spacy) (2.0.2)\n",
            "Requirement already satisfied: language-data>=1.2 in d:\\coding\\college-code-sem7\\venv\\lib\\site-packages (from langcodes<4.0.0,>=3.2.0->spacy) (1.2.0)\n",
            "Requirement already satisfied: annotated-types>=0.6.0 in d:\\coding\\college-code-sem7\\venv\\lib\\site-packages (from pydantic!=1.8,!=1.8.1,<3.0.0,>=1.7.4->spacy) (0.7.0)\n",
            "Requirement already satisfied: pydantic-core==2.23.4 in d:\\coding\\college-code-sem7\\venv\\lib\\site-packages (from pydantic!=1.8,!=1.8.1,<3.0.0,>=1.7.4->spacy) (2.23.4)\n",
            "Requirement already satisfied: typing-extensions>=4.6.1 in d:\\coding\\college-code-sem7\\venv\\lib\\site-packages (from pydantic!=1.8,!=1.8.1,<3.0.0,>=1.7.4->spacy) (4.12.2)\n",
            "Requirement already satisfied: charset-normalizer<4,>=2 in d:\\coding\\college-code-sem7\\venv\\lib\\site-packages (from requests<3.0.0,>=2.13.0->spacy) (3.3.2)\n",
            "Requirement already satisfied: idna<4,>=2.5 in d:\\coding\\college-code-sem7\\venv\\lib\\site-packages (from requests<3.0.0,>=2.13.0->spacy) (3.8)\n",
            "Requirement already satisfied: urllib3<3,>=1.21.1 in d:\\coding\\college-code-sem7\\venv\\lib\\site-packages (from requests<3.0.0,>=2.13.0->spacy) (2.2.3)\n",
            "Requirement already satisfied: certifi>=2017.4.17 in d:\\coding\\college-code-sem7\\venv\\lib\\site-packages (from requests<3.0.0,>=2.13.0->spacy) (2024.8.30)\n",
            "Requirement already satisfied: blis<1.1.0,>=1.0.0 in d:\\coding\\college-code-sem7\\venv\\lib\\site-packages (from thinc<8.4.0,>=8.3.0->spacy) (1.0.1)\n",
            "Requirement already satisfied: confection<1.0.0,>=0.0.1 in d:\\coding\\college-code-sem7\\venv\\lib\\site-packages (from thinc<8.4.0,>=8.3.0->spacy) (0.1.5)\n",
            "Requirement already satisfied: colorama in d:\\coding\\college-code-sem7\\venv\\lib\\site-packages (from tqdm<5.0.0,>=4.38.0->spacy) (0.4.6)\n",
            "Requirement already satisfied: click>=8.0.0 in d:\\coding\\college-code-sem7\\venv\\lib\\site-packages (from typer<1.0.0,>=0.3.0->spacy) (8.1.7)\n",
            "Requirement already satisfied: shellingham>=1.3.0 in d:\\coding\\college-code-sem7\\venv\\lib\\site-packages (from typer<1.0.0,>=0.3.0->spacy) (1.5.4)\n",
            "Requirement already satisfied: rich>=10.11.0 in d:\\coding\\college-code-sem7\\venv\\lib\\site-packages (from typer<1.0.0,>=0.3.0->spacy) (13.8.1)\n",
            "Requirement already satisfied: cloudpathlib<1.0.0,>=0.7.0 in d:\\coding\\college-code-sem7\\venv\\lib\\site-packages (from weasel<0.5.0,>=0.1.0->spacy) (0.19.0)\n",
            "Requirement already satisfied: smart-open<8.0.0,>=5.2.1 in d:\\coding\\college-code-sem7\\venv\\lib\\site-packages (from weasel<0.5.0,>=0.1.0->spacy) (7.0.5)\n",
            "Requirement already satisfied: MarkupSafe>=2.0 in d:\\coding\\college-code-sem7\\venv\\lib\\site-packages (from jinja2->spacy) (2.1.5)\n",
            "Requirement already satisfied: marisa-trie>=0.7.7 in d:\\coding\\college-code-sem7\\venv\\lib\\site-packages (from language-data>=1.2->langcodes<4.0.0,>=3.2.0->spacy) (1.2.0)\n",
            "Requirement already satisfied: markdown-it-py>=2.2.0 in d:\\coding\\college-code-sem7\\venv\\lib\\site-packages (from rich>=10.11.0->typer<1.0.0,>=0.3.0->spacy) (3.0.0)\n",
            "Requirement already satisfied: pygments<3.0.0,>=2.13.0 in d:\\coding\\college-code-sem7\\venv\\lib\\site-packages (from rich>=10.11.0->typer<1.0.0,>=0.3.0->spacy) (2.18.0)\n",
            "Requirement already satisfied: wrapt in d:\\coding\\college-code-sem7\\venv\\lib\\site-packages (from smart-open<8.0.0,>=5.2.1->weasel<0.5.0,>=0.1.0->spacy) (1.16.0)\n",
            "Requirement already satisfied: mdurl~=0.1 in d:\\coding\\college-code-sem7\\venv\\lib\\site-packages (from markdown-it-py>=2.2.0->rich>=10.11.0->typer<1.0.0,>=0.3.0->spacy) (0.1.2)\n",
            "Note: you may need to restart the kernel to use updated packages.\n"
          ]
        },
        {
          "name": "stderr",
          "output_type": "stream",
          "text": [
            "UsageError: Line magic function `%python` not found (But cell magic `%%python` exists, did you mean that instead?).\n"
          ]
        }
      ],
      "source": [
        "%pip install -U spacy\n",
        "%python -m spacy download en_core_web_sm"
      ]
    },
    {
      "cell_type": "code",
      "execution_count": 5,
      "metadata": {
        "id": "sqdN26J1trio"
      },
      "outputs": [],
      "source": [
        "import spacy\n",
        "from spacy.lang.en.stop_words import STOP_WORDS\n",
        "from string import punctuation"
      ]
    },
    {
      "cell_type": "code",
      "execution_count": 6,
      "metadata": {
        "id": "AfSVVh4YttVQ"
      },
      "outputs": [],
      "source": [
        "stopwords = list(STOP_WORDS)"
      ]
    },
    {
      "cell_type": "code",
      "execution_count": 7,
      "metadata": {
        "id": "rnuyZym0txHQ"
      },
      "outputs": [],
      "source": [
        "nlp = spacy.load('en_core_web_sm')"
      ]
    },
    {
      "cell_type": "code",
      "execution_count": 8,
      "metadata": {
        "id": "PmjLGEsPtzig"
      },
      "outputs": [],
      "source": [
        "doc = nlp(text)"
      ]
    },
    {
      "cell_type": "code",
      "execution_count": 9,
      "metadata": {
        "colab": {
          "base_uri": "https://localhost:8080/"
        },
        "id": "a0AX5PSwt1ow",
        "outputId": "3ed59a55-b380-40e9-e7e0-bf943b8f54b3"
      },
      "outputs": [
        {
          "name": "stdout",
          "output_type": "stream",
          "text": [
            "['In', 'January', '1982', ',', 'when', 'it', 'was', 'decided', 'that', 'an', 'Indian', 'would', 'go', 'into', 'space', 'on', 'a', 'Soviet', '\\n', 'space', 'ship', ',', 'Squadron', 'Leader', 'Rakesh', 'Sharma', 'volunteered', 'for', 'this', 'very', 'challenging', '\\n', 'mission', '.', 'After', 'a', 'very', 'rigorous', 'selection', 'process', ',', 'which', 'included', 'a', 'most', 'exacting', '\\n', 'medical', 'test', ',', 'he', 'was', 'selected', 'as', 'one', 'of', 'the', 'two', 'cosmonaut', 'candidates', 'from', 'among', '150', '\\n', 'highly', 'qualified', 'and', 'experienced', 'pilots', 'of', 'the', 'Indian', 'Air', 'Force', '.', 'After', 'his', '\\n', 'selection', ',', 'he', 'underwent', 'training', 'as', 'a', 'cosmonaut', 'at', 'YURI', 'GAGARIN', 'CENTRE', 'in', 'the', 'USSR', ',', '\\n', 'where', 'he', 'applied', 'himself', 'with', 'total', 'devotion', 'and', 'dedication', 'and', 'won', 'acclaim', 'from', '\\n', 'Soviet', 'Space', 'experts', '.', 'Squadron', 'Leader', 'Rakesh', 'Sharma', 'completed', 'a', 'most', 'arduous', '\\n', 'training', 'schedule', ',', 'with', 'distinction', 'and', 'with', 'exceptional', 'professionalism', '.', '\\n', 'On', '3', 'April', '1984', ',', 'Sqn', 'Ldr', 'Rakesh', 'Sharma', 'became', 'the', 'first', 'Indian', 'to', 'orbit', 'in', 'space', '.', '\\n', 'He', 'carried', 'out', 'all', 'the', 'scientific', 'experiments', 'planned', 'for', 'the', 'joint', 'Indo', '-', 'Soviet', '\\n', 'Space', 'Mission', 'and', 'other', 'tasks', 'assigned', 'to', 'him', 'with', 'great', 'facility', 'and', 'excellence', '.', '\\n', 'Sqn', 'Ldr', 'Sharma', 'has', 'not', 'only', 'carved', 'out', 'a', 'place', 'for', 'himself', 'in', 'the', 'space', 'roll', 'of', '\\n', 'honour', 'but', 'has', 'brought', 'glory', 'and', 'credit', 'to', 'the', 'nation', '.', '\\n', 'Squadron', 'leader', 'Rakesh', 'Sharma', 'has', 'thus', 'displayed', 'most', 'conspicuous', 'daring', 'and', '\\n', 'courage', 'to', 'become', 'the', 'first', 'Indian', 'to', 'go', 'into', 'space', '.']\n"
          ]
        }
      ],
      "source": [
        "tokens = [token.text for token in doc]\n",
        "print(tokens)"
      ]
    },
    {
      "cell_type": "code",
      "execution_count": 10,
      "metadata": {
        "colab": {
          "base_uri": "https://localhost:8080/",
          "height": 35
        },
        "id": "2QOzqSMvt4GQ",
        "outputId": "e6017901-b96c-4999-ffbf-bf4d44e92b59"
      },
      "outputs": [
        {
          "data": {
            "text/plain": [
              "'!\"#$%&\\'()*+,-./:;<=>?@[\\\\]^_`{|}~\\n'"
            ]
          },
          "execution_count": 10,
          "metadata": {},
          "output_type": "execute_result"
        }
      ],
      "source": [
        "punctuation = punctuation + '\\n'\n",
        "punctuation"
      ]
    },
    {
      "cell_type": "code",
      "execution_count": 11,
      "metadata": {
        "id": "ebZb_xuKt44f"
      },
      "outputs": [],
      "source": [
        "word_frequencies = {}\n",
        "for word in doc:\n",
        "  if word.text.lower() not in stopwords:\n",
        "    if word.text.lower() not in punctuation:\n",
        "      if word.text not in word_frequencies.keys():\n",
        "        word_frequencies[word.text] = 1\n",
        "      else:\n",
        "        word_frequencies[word.text] += 1"
      ]
    },
    {
      "cell_type": "code",
      "execution_count": 12,
      "metadata": {
        "colab": {
          "base_uri": "https://localhost:8080/"
        },
        "id": "lNfTTaKSt9io",
        "outputId": "5e6ef422-be9d-4bf8-c53d-ef47798eb5a5"
      },
      "outputs": [
        {
          "name": "stdout",
          "output_type": "stream",
          "text": [
            "{'January': 1, '1982': 1, 'decided': 1, 'Indian': 4, 'space': 5, 'Soviet': 3, 'ship': 1, 'Squadron': 3, 'Leader': 2, 'Rakesh': 4, 'Sharma': 5, 'volunteered': 1, 'challenging': 1, 'mission': 1, 'rigorous': 1, 'selection': 2, 'process': 1, 'included': 1, 'exacting': 1, 'medical': 1, 'test': 1, 'selected': 1, 'cosmonaut': 2, 'candidates': 1, '150': 1, 'highly': 1, 'qualified': 1, 'experienced': 1, 'pilots': 1, 'Air': 1, 'Force': 1, 'underwent': 1, 'training': 2, 'YURI': 1, 'GAGARIN': 1, 'CENTRE': 1, 'USSR': 1, 'applied': 1, 'total': 1, 'devotion': 1, 'dedication': 1, 'won': 1, 'acclaim': 1, 'Space': 2, 'experts': 1, 'completed': 1, 'arduous': 1, 'schedule': 1, 'distinction': 1, 'exceptional': 1, 'professionalism': 1, '3': 1, 'April': 1, '1984': 1, 'Sqn': 2, 'Ldr': 2, 'orbit': 1, 'carried': 1, 'scientific': 1, 'experiments': 1, 'planned': 1, 'joint': 1, 'Indo': 1, 'Mission': 1, 'tasks': 1, 'assigned': 1, 'great': 1, 'facility': 1, 'excellence': 1, 'carved': 1, 'place': 1, 'roll': 1, 'honour': 1, 'brought': 1, 'glory': 1, 'credit': 1, 'nation': 1, 'leader': 1, 'displayed': 1, 'conspicuous': 1, 'daring': 1, 'courage': 1}\n"
          ]
        }
      ],
      "source": [
        "print(word_frequencies)"
      ]
    },
    {
      "cell_type": "code",
      "execution_count": 13,
      "metadata": {
        "id": "w6mY7zwpt-qQ"
      },
      "outputs": [],
      "source": [
        "max_frequency = max(word_frequencies.values())"
      ]
    },
    {
      "cell_type": "code",
      "execution_count": 14,
      "metadata": {
        "colab": {
          "base_uri": "https://localhost:8080/"
        },
        "id": "Spc8TjBSuAr4",
        "outputId": "6c5919f3-ae3b-4da8-9f22-4038ebb4f96d"
      },
      "outputs": [
        {
          "data": {
            "text/plain": [
              "5"
            ]
          },
          "execution_count": 14,
          "metadata": {},
          "output_type": "execute_result"
        }
      ],
      "source": [
        "max_frequency"
      ]
    },
    {
      "cell_type": "code",
      "execution_count": 15,
      "metadata": {
        "id": "DY28gRjAuCAh"
      },
      "outputs": [],
      "source": [
        "for word in word_frequencies.keys():\n",
        "  word_frequencies[word] = word_frequencies[word]/max_frequency"
      ]
    },
    {
      "cell_type": "code",
      "execution_count": 16,
      "metadata": {
        "colab": {
          "base_uri": "https://localhost:8080/"
        },
        "id": "3IWVidaDuDo5",
        "outputId": "8431e176-2b6e-4aaa-a762-df5afe11a517"
      },
      "outputs": [
        {
          "name": "stdout",
          "output_type": "stream",
          "text": [
            "{'January': 0.2, '1982': 0.2, 'decided': 0.2, 'Indian': 0.8, 'space': 1.0, 'Soviet': 0.6, 'ship': 0.2, 'Squadron': 0.6, 'Leader': 0.4, 'Rakesh': 0.8, 'Sharma': 1.0, 'volunteered': 0.2, 'challenging': 0.2, 'mission': 0.2, 'rigorous': 0.2, 'selection': 0.4, 'process': 0.2, 'included': 0.2, 'exacting': 0.2, 'medical': 0.2, 'test': 0.2, 'selected': 0.2, 'cosmonaut': 0.4, 'candidates': 0.2, '150': 0.2, 'highly': 0.2, 'qualified': 0.2, 'experienced': 0.2, 'pilots': 0.2, 'Air': 0.2, 'Force': 0.2, 'underwent': 0.2, 'training': 0.4, 'YURI': 0.2, 'GAGARIN': 0.2, 'CENTRE': 0.2, 'USSR': 0.2, 'applied': 0.2, 'total': 0.2, 'devotion': 0.2, 'dedication': 0.2, 'won': 0.2, 'acclaim': 0.2, 'Space': 0.4, 'experts': 0.2, 'completed': 0.2, 'arduous': 0.2, 'schedule': 0.2, 'distinction': 0.2, 'exceptional': 0.2, 'professionalism': 0.2, '3': 0.2, 'April': 0.2, '1984': 0.2, 'Sqn': 0.4, 'Ldr': 0.4, 'orbit': 0.2, 'carried': 0.2, 'scientific': 0.2, 'experiments': 0.2, 'planned': 0.2, 'joint': 0.2, 'Indo': 0.2, 'Mission': 0.2, 'tasks': 0.2, 'assigned': 0.2, 'great': 0.2, 'facility': 0.2, 'excellence': 0.2, 'carved': 0.2, 'place': 0.2, 'roll': 0.2, 'honour': 0.2, 'brought': 0.2, 'glory': 0.2, 'credit': 0.2, 'nation': 0.2, 'leader': 0.2, 'displayed': 0.2, 'conspicuous': 0.2, 'daring': 0.2, 'courage': 0.2}\n"
          ]
        }
      ],
      "source": [
        "print(word_frequencies)"
      ]
    },
    {
      "cell_type": "code",
      "execution_count": 17,
      "metadata": {
        "colab": {
          "base_uri": "https://localhost:8080/"
        },
        "id": "7tIm1D8DuFDJ",
        "outputId": "9bb3902d-2cfb-4594-c926-60d9d8be19ee"
      },
      "outputs": [
        {
          "name": "stdout",
          "output_type": "stream",
          "text": [
            "[In January 1982, when it was decided that an Indian would go into space on a Soviet\n",
            "space ship, Squadron Leader Rakesh Sharma volunteered for this very challenging \n",
            "mission., After a very rigorous selection process, which included a most exacting \n",
            "medical test, he was selected as one of the two cosmonaut candidates from among 150\n",
            "highly qualified and experienced pilots of the Indian Air Force., After his \n",
            "selection, he underwent training as a cosmonaut at YURI GAGARIN CENTRE in the USSR,\n",
            "where he applied himself with total devotion and dedication and won acclaim from \n",
            "Soviet Space experts., Squadron Leader Rakesh Sharma completed a most arduous \n",
            "training schedule, with distinction and with exceptional professionalism.\n",
            ", On 3 April 1984, Sqn Ldr Rakesh Sharma became the first Indian to orbit in space. \n",
            ", He carried out all the scientific experiments planned for the joint Indo-Soviet \n",
            "Space Mission and other tasks assigned to him with great facility and excellence. \n",
            ", Sqn Ldr Sharma has not only carved out a place for himself in the space roll of \n",
            "honour but has brought glory and credit to the nation.\n",
            ", Squadron leader Rakesh Sharma has thus displayed most conspicuous daring and \n",
            "courage to become the first Indian to go into space.]\n"
          ]
        }
      ],
      "source": [
        "sentence_tokens = [sent for sent in doc.sents]\n",
        "print(sentence_tokens)"
      ]
    },
    {
      "cell_type": "code",
      "execution_count": 18,
      "metadata": {
        "id": "iNm8S4xLuGrQ"
      },
      "outputs": [],
      "source": [
        "sentence_scores = {}\n",
        "for sent in sentence_tokens:\n",
        "  for word in sent:\n",
        "    if word.text.lower() in word_frequencies.keys():\n",
        "      if sent not in sentence_scores.keys():\n",
        "        sentence_scores[sent] = word_frequencies[word.text.lower()]\n",
        "      else:\n",
        "        sentence_scores[sent] += word_frequencies[word.text.lower()]"
      ]
    },
    {
      "cell_type": "code",
      "execution_count": 19,
      "metadata": {
        "colab": {
          "base_uri": "https://localhost:8080/"
        },
        "id": "C4c_9D6yuJaD",
        "outputId": "fcc55a07-1db8-479b-c005-0f3f6260e02c"
      },
      "outputs": [
        {
          "data": {
            "text/plain": [
              "{In January 1982, when it was decided that an Indian would go into space on a Soviet\n",
              " space ship, Squadron Leader Rakesh Sharma volunteered for this very challenging \n",
              " mission.: 3.400000000000001,\n",
              " After a very rigorous selection process, which included a most exacting \n",
              " medical test, he was selected as one of the two cosmonaut candidates from among 150\n",
              " highly qualified and experienced pilots of the Indian Air Force.: 3.400000000000001,\n",
              " After his \n",
              " selection, he underwent training as a cosmonaut at YURI GAGARIN CENTRE in the USSR,\n",
              " where he applied himself with total devotion and dedication and won acclaim from \n",
              " Soviet Space experts.: 3.8000000000000003,\n",
              " Squadron Leader Rakesh Sharma completed a most arduous \n",
              " training schedule, with distinction and with exceptional professionalism.: 1.7999999999999998,\n",
              " On 3 April 1984, Sqn Ldr Rakesh Sharma became the first Indian to orbit in space. : 1.6,\n",
              " He carried out all the scientific experiments planned for the joint Indo-Soviet \n",
              " Space Mission and other tasks assigned to him with great facility and excellence. : 3.200000000000001,\n",
              " Sqn Ldr Sharma has not only carved out a place for himself in the space roll of \n",
              " honour but has brought glory and credit to the nation.: 2.6,\n",
              " Squadron leader Rakesh Sharma has thus displayed most conspicuous daring and \n",
              " courage to become the first Indian to go into space.: 2.0}"
            ]
          },
          "execution_count": 19,
          "metadata": {},
          "output_type": "execute_result"
        }
      ],
      "source": [
        "sentence_scores"
      ]
    },
    {
      "cell_type": "code",
      "execution_count": 20,
      "metadata": {
        "id": "G6pNgCUouLRr"
      },
      "outputs": [],
      "source": [
        "from heapq import nlargest"
      ]
    },
    {
      "cell_type": "code",
      "execution_count": 21,
      "metadata": {
        "colab": {
          "base_uri": "https://localhost:8080/"
        },
        "id": "KkBlG34JuMxL",
        "outputId": "f87a4146-4658-48f5-bab7-95832285edc7"
      },
      "outputs": [
        {
          "data": {
            "text/plain": [
              "2"
            ]
          },
          "execution_count": 21,
          "metadata": {},
          "output_type": "execute_result"
        }
      ],
      "source": [
        "select_length = int(len(sentence_tokens)*0.3)\n",
        "select_length"
      ]
    },
    {
      "cell_type": "code",
      "execution_count": 22,
      "metadata": {
        "id": "QTEt8itnuO3T"
      },
      "outputs": [],
      "source": [
        "summary = nlargest(select_length, sentence_scores, key = sentence_scores.get)"
      ]
    },
    {
      "cell_type": "code",
      "execution_count": 23,
      "metadata": {
        "colab": {
          "base_uri": "https://localhost:8080/"
        },
        "id": "jiS7QNAzuQWt",
        "outputId": "4072ab44-29b4-41ca-bc73-cf8965d145e0"
      },
      "outputs": [
        {
          "data": {
            "text/plain": [
              "[After his \n",
              " selection, he underwent training as a cosmonaut at YURI GAGARIN CENTRE in the USSR,\n",
              " where he applied himself with total devotion and dedication and won acclaim from \n",
              " Soviet Space experts.,\n",
              " In January 1982, when it was decided that an Indian would go into space on a Soviet\n",
              " space ship, Squadron Leader Rakesh Sharma volunteered for this very challenging \n",
              " mission.]"
            ]
          },
          "execution_count": 23,
          "metadata": {},
          "output_type": "execute_result"
        }
      ],
      "source": [
        "summary"
      ]
    },
    {
      "cell_type": "code",
      "execution_count": 24,
      "metadata": {
        "id": "zlSn4plfuRxU"
      },
      "outputs": [],
      "source": [
        "final_summary = [word.text for word in summary]\n"
      ]
    },
    {
      "cell_type": "code",
      "execution_count": 25,
      "metadata": {
        "id": "YnXtHoXfuTC8"
      },
      "outputs": [],
      "source": [
        "summary = ' '.join(final_summary)"
      ]
    },
    {
      "cell_type": "code",
      "execution_count": 26,
      "metadata": {
        "colab": {
          "base_uri": "https://localhost:8080/"
        },
        "id": "BjsI5EhOuUwT",
        "outputId": "04b9ca4f-fd6c-401c-e299-6753ffb66a6a"
      },
      "outputs": [
        {
          "name": "stdout",
          "output_type": "stream",
          "text": [
            "In January 1982, when it was decided that an Indian would go into space on a Soviet\n",
            "space ship, Squadron Leader Rakesh Sharma volunteered for this very challenging \n",
            "mission. After a very rigorous selection process, which included a most exacting \n",
            "medical test, he was selected as one of the two cosmonaut candidates from among 150\n",
            "highly qualified and experienced pilots of the Indian Air Force. After his \n",
            "selection, he underwent training as a cosmonaut at YURI GAGARIN CENTRE in the USSR,\n",
            "where he applied himself with total devotion and dedication and won acclaim from \n",
            "Soviet Space experts. Squadron Leader Rakesh Sharma completed a most arduous \n",
            "training schedule, with distinction and with exceptional professionalism.\n",
            "On 3 April 1984, Sqn Ldr Rakesh Sharma became the first Indian to orbit in space. \n",
            "He carried out all the scientific experiments planned for the joint Indo-Soviet \n",
            "Space Mission and other tasks assigned to him with great facility and excellence. \n",
            "Sqn Ldr Sharma has not only carved out a place for himself in the space roll of \n",
            "honour but has brought glory and credit to the nation.\n",
            "Squadron leader Rakesh Sharma has thus displayed most conspicuous daring and \n",
            "courage to become the first Indian to go into space.\n"
          ]
        }
      ],
      "source": [
        "print(text)"
      ]
    },
    {
      "cell_type": "code",
      "execution_count": 27,
      "metadata": {
        "colab": {
          "base_uri": "https://localhost:8080/"
        },
        "id": "qCcRr8r1uW2I",
        "outputId": "5b7f6fd0-3293-484e-c658-875ba1314f69"
      },
      "outputs": [
        {
          "name": "stdout",
          "output_type": "stream",
          "text": [
            "After his \n",
            "selection, he underwent training as a cosmonaut at YURI GAGARIN CENTRE in the USSR,\n",
            "where he applied himself with total devotion and dedication and won acclaim from \n",
            "Soviet Space experts. In January 1982, when it was decided that an Indian would go into space on a Soviet\n",
            "space ship, Squadron Leader Rakesh Sharma volunteered for this very challenging \n",
            "mission.\n"
          ]
        }
      ],
      "source": [
        "print(summary)"
      ]
    },
    {
      "cell_type": "code",
      "execution_count": null,
      "metadata": {},
      "outputs": [],
      "source": []
    }
  ],
  "metadata": {
    "colab": {
      "provenance": []
    },
    "kernelspec": {
      "display_name": "venv",
      "language": "python",
      "name": "python3"
    },
    "language_info": {
      "codemirror_mode": {
        "name": "ipython",
        "version": 3
      },
      "file_extension": ".py",
      "mimetype": "text/x-python",
      "name": "python",
      "nbconvert_exporter": "python",
      "pygments_lexer": "ipython3",
      "version": "3.12.6"
    }
  },
  "nbformat": 4,
  "nbformat_minor": 0
}
