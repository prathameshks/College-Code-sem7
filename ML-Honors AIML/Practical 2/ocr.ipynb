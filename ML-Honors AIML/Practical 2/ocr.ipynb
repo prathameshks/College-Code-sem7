{
 "cells": [
  {
   "cell_type": "code",
   "execution_count": 5,
   "metadata": {},
   "outputs": [
    {
     "name": "stdout",
     "output_type": "stream",
     "text": [
      "Requirement already satisfied: pytesseract in d:\\coding\\college-code-sem7\\venv\\lib\\site-packages (0.3.13)\n",
      "Requirement already satisfied: packaging>=21.3 in d:\\coding\\college-code-sem7\\venv\\lib\\site-packages (from pytesseract) (24.1)\n",
      "Requirement already satisfied: Pillow>=8.0.0 in d:\\coding\\college-code-sem7\\venv\\lib\\site-packages (from pytesseract) (10.4.0)\n"
     ]
    }
   ],
   "source": [
    "!pip install pytesseract"
   ]
  },
  {
   "cell_type": "code",
   "execution_count": 6,
   "metadata": {},
   "outputs": [],
   "source": [
    "import numpy as np\n",
    "import pytesseract\n",
    "from PIL import Image"
   ]
  },
  {
   "cell_type": "code",
   "execution_count": 7,
   "metadata": {},
   "outputs": [],
   "source": [
    "image = Image.open(\"sample.jpg\")\n",
    "\n",
    "img_arr = np.array(image)"
   ]
  },
  {
   "cell_type": "code",
   "execution_count": 8,
   "metadata": {},
   "outputs": [],
   "source": [
    "text = pytesseract.image_to_string(img_arr)"
   ]
  },
  {
   "cell_type": "code",
   "execution_count": 9,
   "metadata": {},
   "outputs": [
    {
     "data": {
      "text/plain": [
       "'handful of type fonts and page formats. Proportionally spaced type (which includes virtually\\nall typeset copy), laser printer fonts, and even many non-proportional typewriter fonts, have\\nremained beyond the reach of these systems. And as a result, conventional OCR has never\\nachieved more than a marginal impact on the total number of documents needing conversion\\ninto digital form.\\n\\nSCANNED\\nBocuments.\\n\\n4 1m\\n—\\ngs Text DATA BASE\\n\\nDocuments\\nCS\\n\\nmaces |p 5]\\nASU\\n\\nPDF\\nDocuments\\n\\nOptical Character Recognition remains a challenging problem when text occurs in\\nunconstrained environments, like natural scenes, due to geometrical distortions, complex\\nbackgrounds, and diverse fonts. The technology still holds an immense potential due to the\\nvarious use-cases of deep learning based OCR like :\\n'"
      ]
     },
     "execution_count": 9,
     "metadata": {},
     "output_type": "execute_result"
    }
   ],
   "source": [
    "text"
   ]
  },
  {
   "cell_type": "code",
   "execution_count": 11,
   "metadata": {},
   "outputs": [],
   "source": [
    "with open(\"ocr.txt\", \"w\") as f:\n",
    "    f.write(text)"
   ]
  }
 ],
 "metadata": {
  "kernelspec": {
   "display_name": "venv",
   "language": "python",
   "name": "python3"
  },
  "language_info": {
   "codemirror_mode": {
    "name": "ipython",
    "version": 3
   },
   "file_extension": ".py",
   "mimetype": "text/x-python",
   "name": "python",
   "nbconvert_exporter": "python",
   "pygments_lexer": "ipython3",
   "version": "3.12.6"
  }
 },
 "nbformat": 4,
 "nbformat_minor": 2
}
