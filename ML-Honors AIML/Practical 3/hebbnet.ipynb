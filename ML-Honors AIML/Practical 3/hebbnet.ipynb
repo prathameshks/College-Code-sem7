{
 "cells": [
  {
   "cell_type": "code",
   "execution_count": 22,
   "metadata": {},
   "outputs": [],
   "source": [
    "import numpy as np"
   ]
  },
  {
   "cell_type": "code",
   "execution_count": 23,
   "metadata": {},
   "outputs": [],
   "source": [
    "# Define the Hebbian learning rule\n",
    "def hebbian_learning(inputs, outputs, learning_rate=1.0,epoch=1):\n",
    "    weights = np.zeros(inputs.shape[1])\n",
    "    for i in range(epoch):\n",
    "        for x, y in zip(inputs, outputs):\n",
    "            weights += learning_rate * x * y\n",
    "        print(f\"Weights after epoch {i+1}: {weights}\")\n",
    "    return weights"
   ]
  },
  {
   "cell_type": "code",
   "execution_count": 24,
   "metadata": {},
   "outputs": [],
   "source": [
    "inputs = np.array([[-1, -1], [-1, 1], [1, -1], [1, 1]])\n",
    "outputs = np.array([-1, 1, 1, 1])"
   ]
  },
  {
   "cell_type": "code",
   "execution_count": 25,
   "metadata": {},
   "outputs": [
    {
     "name": "stdout",
     "output_type": "stream",
     "text": [
      "Weights after epoch 1: [2. 2.]\n",
      "Weights after epoch 2: [4. 4.]\n",
      "Weights after epoch 3: [6. 6.]\n",
      "Weights after epoch 4: [8. 8.]\n",
      "Weights after epoch 5: [10. 10.]\n",
      "Weights after epoch 6: [12. 12.]\n",
      "Weights after epoch 7: [14. 14.]\n",
      "Weights after epoch 8: [16. 16.]\n",
      "Weights after epoch 9: [18. 18.]\n",
      "Weights after epoch 10: [20. 20.]\n"
     ]
    }
   ],
   "source": [
    "# Train the network\n",
    "weights = hebbian_learning(inputs, outputs,epoch=10)"
   ]
  },
  {
   "cell_type": "code",
   "execution_count": 26,
   "metadata": {},
   "outputs": [],
   "source": [
    "# Test the network\n",
    "def predict(inputs, weights):\n",
    "    return np.dot(inputs, weights) > 0"
   ]
  },
  {
   "cell_type": "code",
   "execution_count": 27,
   "metadata": {},
   "outputs": [
    {
     "name": "stdout",
     "output_type": "stream",
     "text": [
      "[False False False  True]\n"
     ]
    }
   ],
   "source": [
    "print(predict(inputs, weights))"
   ]
  }
 ],
 "metadata": {
  "kernelspec": {
   "display_name": "venv",
   "language": "python",
   "name": "python3"
  },
  "language_info": {
   "codemirror_mode": {
    "name": "ipython",
    "version": 3
   },
   "file_extension": ".py",
   "mimetype": "text/x-python",
   "name": "python",
   "nbconvert_exporter": "python",
   "pygments_lexer": "ipython3",
   "version": "3.12.6"
  }
 },
 "nbformat": 4,
 "nbformat_minor": 2
}
