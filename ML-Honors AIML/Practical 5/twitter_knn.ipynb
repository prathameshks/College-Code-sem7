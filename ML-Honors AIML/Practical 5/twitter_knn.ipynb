{
 "cells": [
  {
   "cell_type": "code",
   "execution_count": 1,
   "metadata": {},
   "outputs": [
    {
     "name": "stderr",
     "output_type": "stream",
     "text": [
      "[nltk_data] Downloading package stopwords to\n",
      "[nltk_data]     C:\\Users\\Dell\\AppData\\Roaming\\nltk_data...\n",
      "[nltk_data]   Package stopwords is already up-to-date!\n",
      "[nltk_data] Downloading package punkt to\n",
      "[nltk_data]     C:\\Users\\Dell\\AppData\\Roaming\\nltk_data...\n",
      "[nltk_data]   Package punkt is already up-to-date!\n"
     ]
    },
    {
     "data": {
      "text/plain": [
       "True"
      ]
     },
     "execution_count": 1,
     "metadata": {},
     "output_type": "execute_result"
    }
   ],
   "source": [
    "import pandas as pd\n",
    "import numpy as np\n",
    "from sklearn.model_selection import train_test_split\n",
    "from sklearn.feature_extraction.text import TfidfVectorizer\n",
    "from sklearn.neighbors import KNeighborsClassifier\n",
    "from sklearn.metrics import classification_report, confusion_matrix\n",
    "import re\n",
    "import nltk\n",
    "from nltk.corpus import stopwords\n",
    "from nltk.stem import PorterStemmer\n",
    "import matplotlib.pyplot as plt\n",
    "import seaborn as sns\n",
    "\n",
    "# Download necessary NLTK data\n",
    "nltk.download('stopwords')\n",
    "nltk.download('punkt')"
   ]
  },
  {
   "cell_type": "code",
   "execution_count": 2,
   "metadata": {},
   "outputs": [
    {
     "name": "stdout",
     "output_type": "stream",
     "text": [
      "sentiment\n",
      "negative    1000\n",
      "Name: count, dtype: int64\n"
     ]
    },
    {
     "data": {
      "text/html": [
       "<div>\n",
       "<style scoped>\n",
       "    .dataframe tbody tr th:only-of-type {\n",
       "        vertical-align: middle;\n",
       "    }\n",
       "\n",
       "    .dataframe tbody tr th {\n",
       "        vertical-align: top;\n",
       "    }\n",
       "\n",
       "    .dataframe thead th {\n",
       "        text-align: right;\n",
       "    }\n",
       "</style>\n",
       "<table border=\"1\" class=\"dataframe\">\n",
       "  <thead>\n",
       "    <tr style=\"text-align: right;\">\n",
       "      <th></th>\n",
       "      <th>sentiment</th>\n",
       "      <th>text</th>\n",
       "    </tr>\n",
       "  </thead>\n",
       "  <tbody>\n",
       "    <tr>\n",
       "      <th>80956</th>\n",
       "      <td>negative</td>\n",
       "      <td>so.. cold..</td>\n",
       "    </tr>\n",
       "    <tr>\n",
       "      <th>109622</th>\n",
       "      <td>negative</td>\n",
       "      <td>sick! cold! cough! and fever!  just at the mis...</td>\n",
       "    </tr>\n",
       "    <tr>\n",
       "      <th>148312</th>\n",
       "      <td>negative</td>\n",
       "      <td>@_theX . . . And yet you never come to Beantow...</td>\n",
       "    </tr>\n",
       "    <tr>\n",
       "      <th>79883</th>\n",
       "      <td>negative</td>\n",
       "      <td>@JenAlaniz Wasn't it though! I love the 90's! ...</td>\n",
       "    </tr>\n",
       "    <tr>\n",
       "      <th>267821</th>\n",
       "      <td>negative</td>\n",
       "      <td>@DirtyDiva sorry, but @jeffrubenstein didn't w...</td>\n",
       "    </tr>\n",
       "  </tbody>\n",
       "</table>\n",
       "</div>"
      ],
      "text/plain": [
       "       sentiment                                               text\n",
       "80956   negative                                       so.. cold.. \n",
       "109622  negative  sick! cold! cough! and fever!  just at the mis...\n",
       "148312  negative  @_theX . . . And yet you never come to Beantow...\n",
       "79883   negative  @JenAlaniz Wasn't it though! I love the 90's! ...\n",
       "267821  negative  @DirtyDiva sorry, but @jeffrubenstein didn't w..."
      ]
     },
     "execution_count": 2,
     "metadata": {},
     "output_type": "execute_result"
    }
   ],
   "source": [
    "# Step 1: Gather Twitter data\n",
    "def load_data(file_path, num_samples=100000):\n",
    "    df = pd.read_csv(file_path, encoding='latin-1', header=None, \n",
    "                     names=['sentiment', 'id', 'date', 'query', 'user', 'text'])\n",
    "    df = df[['sentiment', 'text']]\n",
    "    df['sentiment'] = df['sentiment'].map({0: 'negative', 4: 'positive'})\n",
    "    return df.sample(n=num_samples, random_state=42)\n",
    "\n",
    "# Load the data\n",
    "data = load_data('../Practical 4/data.csv', num_samples=1000)\n",
    "print(data['sentiment'].value_counts())\n",
    "data.head()"
   ]
  },
  {
   "cell_type": "code",
   "execution_count": 3,
   "metadata": {},
   "outputs": [
    {
     "data": {
      "text/html": [
       "<div>\n",
       "<style scoped>\n",
       "    .dataframe tbody tr th:only-of-type {\n",
       "        vertical-align: middle;\n",
       "    }\n",
       "\n",
       "    .dataframe tbody tr th {\n",
       "        vertical-align: top;\n",
       "    }\n",
       "\n",
       "    .dataframe thead th {\n",
       "        text-align: right;\n",
       "    }\n",
       "</style>\n",
       "<table border=\"1\" class=\"dataframe\">\n",
       "  <thead>\n",
       "    <tr style=\"text-align: right;\">\n",
       "      <th></th>\n",
       "      <th>sentiment</th>\n",
       "      <th>text</th>\n",
       "      <th>processed_text</th>\n",
       "    </tr>\n",
       "  </thead>\n",
       "  <tbody>\n",
       "    <tr>\n",
       "      <th>80956</th>\n",
       "      <td>negative</td>\n",
       "      <td>so.. cold..</td>\n",
       "      <td>so cold</td>\n",
       "    </tr>\n",
       "    <tr>\n",
       "      <th>109622</th>\n",
       "      <td>negative</td>\n",
       "      <td>sick! cold! cough! and fever!  just at the mis...</td>\n",
       "      <td>sick cold cough and fever just at the mist of ...</td>\n",
       "    </tr>\n",
       "    <tr>\n",
       "      <th>148312</th>\n",
       "      <td>negative</td>\n",
       "      <td>@_theX . . . And yet you never come to Beantow...</td>\n",
       "      <td>and yet you never come to beantown smh haha</td>\n",
       "    </tr>\n",
       "    <tr>\n",
       "      <th>79883</th>\n",
       "      <td>negative</td>\n",
       "      <td>@JenAlaniz Wasn't it though! I love the 90's! ...</td>\n",
       "      <td>wasnt it though i love the s and the s so cool...</td>\n",
       "    </tr>\n",
       "    <tr>\n",
       "      <th>267821</th>\n",
       "      <td>negative</td>\n",
       "      <td>@DirtyDiva sorry, but @jeffrubenstein didn't w...</td>\n",
       "      <td>sorry but didnt want any of my hugs</td>\n",
       "    </tr>\n",
       "  </tbody>\n",
       "</table>\n",
       "</div>"
      ],
      "text/plain": [
       "       sentiment                                               text  \\\n",
       "80956   negative                                       so.. cold..    \n",
       "109622  negative  sick! cold! cough! and fever!  just at the mis...   \n",
       "148312  negative  @_theX . . . And yet you never come to Beantow...   \n",
       "79883   negative  @JenAlaniz Wasn't it though! I love the 90's! ...   \n",
       "267821  negative  @DirtyDiva sorry, but @jeffrubenstein didn't w...   \n",
       "\n",
       "                                           processed_text  \n",
       "80956                                             so cold  \n",
       "109622  sick cold cough and fever just at the mist of ...  \n",
       "148312        and yet you never come to beantown smh haha  \n",
       "79883   wasnt it though i love the s and the s so cool...  \n",
       "267821                sorry but didnt want any of my hugs  "
      ]
     },
     "execution_count": 3,
     "metadata": {},
     "output_type": "execute_result"
    }
   ],
   "source": [
    "# Step 2: Preprocess and prepare the data\n",
    "def preprocess_text(text):\n",
    "    # Convert to lowercase\n",
    "    text = text.lower()\n",
    "    # Remove URLs\n",
    "    text = re.sub(r'http\\S+', '', text)\n",
    "    # Remove user mentions\n",
    "    text = re.sub(r'@\\w+', '', text)\n",
    "    # Remove hashtags\n",
    "    text = re.sub(r'#\\w+', '', text)\n",
    "    # Remove special characters and numbers\n",
    "    text = re.sub(r'[^a-zA-Z\\s]', '', text)\n",
    "    # Remove extra whitespace\n",
    "    text = re.sub(r'\\s+', ' ', text).strip()\n",
    "    return text\n",
    "\n",
    "def tokenize_and_stem(text):\n",
    "    stop_words = set(stopwords.words('english'))\n",
    "    ps = PorterStemmer()\n",
    "    words = nltk.word_tokenize(text)\n",
    "    return [ps.stem(word) for word in words if word not in stop_words]\n",
    "\n",
    "# Apply preprocessing\n",
    "data['processed_text'] = data['text'].apply(preprocess_text)\n",
    "data.head()"
   ]
  },
  {
   "cell_type": "code",
   "execution_count": 4,
   "metadata": {},
   "outputs": [
    {
     "name": "stderr",
     "output_type": "stream",
     "text": [
      "d:\\Coding\\College-Code-sem7\\venv\\Lib\\site-packages\\sklearn\\feature_extraction\\text.py:521: UserWarning: The parameter 'token_pattern' will not be used since 'tokenizer' is not None'\n",
      "  warnings.warn(\n"
     ]
    },
    {
     "name": "stdout",
     "output_type": "stream",
     "text": [
      "              precision    recall  f1-score   support\n",
      "\n",
      "    negative       1.00      1.00      1.00       200\n",
      "\n",
      "    accuracy                           1.00       200\n",
      "   macro avg       1.00      1.00      1.00       200\n",
      "weighted avg       1.00      1.00      1.00       200\n",
      "\n"
     ]
    }
   ],
   "source": [
    "# Step 3: Train and test a Sentiment Analysis model\n",
    "# Split data into training and testing sets\n",
    "X_train, X_test, y_train, y_test = train_test_split(data['processed_text'], data['sentiment'], test_size=0.2, random_state=42)\n",
    "\n",
    "# Create TF-IDF vectors\n",
    "vectorizer = TfidfVectorizer(tokenizer=tokenize_and_stem, max_features=5000)\n",
    "X_train_tfidf = vectorizer.fit_transform(X_train)\n",
    "X_test_tfidf = vectorizer.transform(X_test)\n",
    "\n",
    "# Train KNN model\n",
    "k = int(len(X_train) ** 0.5)  # Set k to square root of training data size\n",
    "knn = KNeighborsClassifier(n_neighbors=k)\n",
    "knn.fit(X_train_tfidf, y_train)\n",
    "\n",
    "# Evaluate model\n",
    "y_pred = knn.predict(X_test_tfidf)\n",
    "print(classification_report(y_test, y_pred))"
   ]
  },
  {
   "cell_type": "code",
   "execution_count": 5,
   "metadata": {},
   "outputs": [
    {
     "name": "stderr",
     "output_type": "stream",
     "text": [
      "d:\\Coding\\College-Code-sem7\\venv\\Lib\\site-packages\\sklearn\\metrics\\_classification.py:409: UserWarning: A single label was found in 'y_true' and 'y_pred'. For the confusion matrix to have the correct shape, use the 'labels' parameter to pass all known labels.\n",
      "  warnings.warn(\n"
     ]
    },
    {
     "data": {
      "image/png": "[encoded data removed]",
      "text/plain": [
       "<Figure size 1000x700 with 2 Axes>"
      ]
     },
     "metadata": {},
     "output_type": "display_data"
    },
    {
     "data": {
      "image/png": "[encoded data removed]",
      "text/plain": [
       "<Figure size 800x600 with 1 Axes>"
      ]
     },
     "metadata": {},
     "output_type": "display_data"
    }
   ],
   "source": [
    "# Step 4: Visualize and verify the results\n",
    "def visualize_results(y_test, y_pred):\n",
    "    cm = confusion_matrix(y_test, y_pred)\n",
    "    plt.figure(figsize=(10, 7))\n",
    "    sns.heatmap(cm, annot=True, fmt='d', cmap='Blues')\n",
    "    plt.title('Confusion Matrix')\n",
    "    plt.xlabel('Predicted')\n",
    "    plt.ylabel('Actual')\n",
    "    plt.show()\n",
    "\n",
    "    # Sentiment distribution\n",
    "    plt.figure(figsize=(8, 6))\n",
    "    sns.countplot(x=y_pred)\n",
    "    plt.title('Predicted Sentiment Distribution')\n",
    "    plt.show()\n",
    "\n",
    "visualize_results(y_test, y_pred)"
   ]
  },
  {
   "cell_type": "code",
   "execution_count": 6,
   "metadata": {},
   "outputs": [
    {
     "name": "stdout",
     "output_type": "stream",
     "text": [
      "Tweet: I love this product! It's amazing!\n",
      "Predicted sentiment: negative\n",
      "\n",
      "Tweet: This is the worst experience ever. Terrible service.\n",
      "Predicted sentiment: negative\n",
      "\n",
      "Tweet: The weather is nice today.\n",
      "Predicted sentiment: negative\n",
      "\n"
     ]
    }
   ],
   "source": [
    "# Example of using the model for new tweets\n",
    "new_tweets = [\n",
    "    \"I love this product! It's amazing!\",\n",
    "    \"This is the worst experience ever. Terrible service.\",\n",
    "    \"The weather is nice today.\"\n",
    "]\n",
    "new_tweets_processed = [preprocess_text(tweet) for tweet in new_tweets]\n",
    "new_tweets_tfidf = vectorizer.transform(new_tweets_processed)\n",
    "predictions = knn.predict(new_tweets_tfidf)\n",
    "\n",
    "for tweet, sentiment in zip(new_tweets, predictions):\n",
    "    print(f\"Tweet: {tweet}\")\n",
    "    print(f\"Predicted sentiment: {sentiment}\\n\")"
   ]
  },
  {
   "cell_type": "code",
   "execution_count": null,
   "metadata": {},
   "outputs": [],
   "source": []
  }
 ],
 "metadata": {
  "kernelspec": {
   "display_name": "venv",
   "language": "python",
   "name": "python3"
  },
  "language_info": {
   "codemirror_mode": {
    "name": "ipython",
    "version": 3
   },
   "file_extension": ".py",
   "mimetype": "text/x-python",
   "name": "python",
   "nbconvert_exporter": "python",
   "pygments_lexer": "ipython3",
   "version": "3.12.6"
  }
 },
 "nbformat": 4,
 "nbformat_minor": 4
}
